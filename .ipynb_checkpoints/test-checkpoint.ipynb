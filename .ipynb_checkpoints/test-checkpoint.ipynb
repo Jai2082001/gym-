***REMOVED***
***REMOVED***
***REMOVED***
***REMOVED***
***REMOVED***
   "id": "1a048dde-8c19-4a33-8724-78c8ceba25d0",
***REMOVED***
***REMOVED***
***REMOVED***
     "ename": "ModuleNotFoundError",
     "evalue": "No module named 'transformers'",
***REMOVED***
***REMOVED***
***REMOVED***
      "\u001b[0;31mModuleNotFoundError\u001b[0m                       Traceback (most recent call last)",
      "Cell \u001b[0;32mIn[1], line 2\u001b[0m\n\u001b[1;32m      1\u001b[0m \u001b[38;5;28;01mfrom\u001b[39;00m \u001b[38;5;21;01mdatetime\u001b[39;00m \u001b[38;5;28;01mimport\u001b[39;00m datetime\n\u001b[0;32m----> 2\u001b[0m \u001b[38;5;28;01mfrom\u001b[39;00m \u001b[38;5;21;01mtransformers\u001b[39;00m \u001b[38;5;28;01mimport\u001b[39;00m pipeline\n\u001b[1;32m      4\u001b[0m \u001b[38;5;66;03m# Load small model for testing, you can switch to mistral or llama later\u001b[39;00m\n\u001b[1;32m      5\u001b[0m pipe \u001b[38;5;241m=\u001b[39m pipeline(\u001b[38;5;124m\"\u001b[39m\u001b[38;5;124mtext-generation\u001b[39m\u001b[38;5;124m\"\u001b[39m, model\u001b[38;5;241m=\u001b[39m\u001b[38;5;124m\"\u001b[39m\u001b[38;5;124mgpt2\u001b[39m\u001b[38;5;124m\"\u001b[39m)\n",
      "\u001b[0;31mModuleNotFoundError\u001b[0m: No module named 'transformers'"
***REMOVED***
***REMOVED***
***REMOVED***
***REMOVED***
***REMOVED***
    "from transformers import pipeline\n",
***REMOVED***
    "# Load small model for testing, you can switch to mistral or llama later\n",
    "pipe = pipeline(\"text-generation\", model=\"gpt2\")\n",
***REMOVED***
    "user_input = \"Generate a gym workout image prompt for training legs\"\n",
***REMOVED***
***REMOVED***
    "result = pipe(prompt, max_new_tokens=80)[0][\"generated_text\"]\n",
***REMOVED***
***REMOVED***
    "with open(f\"../outputs/prompt_***REMOVED***timestamp***REMOVED***.txt\", \"w\") as f:\n",
    "    f.write(result)\n",
***REMOVED***
    "print(\"Prompt generated:\", result)\n"
***REMOVED***
***REMOVED***
***REMOVED***
***REMOVED***
***REMOVED***
***REMOVED***
***REMOVED***
***REMOVED***
***REMOVED***
***REMOVED***
***REMOVED***
***REMOVED***
***REMOVED***
***REMOVED***
***REMOVED***
***REMOVED***
***REMOVED***
***REMOVED***
***REMOVED***
***REMOVED***
***REMOVED***
***REMOVED***
***REMOVED***
***REMOVED***
***REMOVED***
***REMOVED***
***REMOVED***
***REMOVED***
***REMOVED***
***REMOVED***
***REMOVED***
***REMOVED***
***REMOVED***
